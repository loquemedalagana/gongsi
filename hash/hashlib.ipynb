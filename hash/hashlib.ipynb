{
 "cells": [
  {
   "cell_type": "code",
   "id": "initial_id",
   "metadata": {
    "collapsed": true,
    "ExecuteTime": {
     "end_time": "2025-07-17T11:49:15.335358Z",
     "start_time": "2025-07-17T11:49:15.330726Z"
    }
   },
   "source": [
    "import hashlib\n",
    "\n",
    "word = b\"hello\"\n",
    "\n",
    "# add salt\n",
    "word = b\"this_is_salt\" + word\n",
    "\n",
    "# do not use\n",
    "print(hashlib.md5(word).hexdigest())\n",
    "print(hashlib.sha1(word).hexdigest())\n",
    "\n",
    "# basic\n",
    "print(hashlib.sha224(word).hexdigest())\n",
    "print(hashlib.sha256(word).hexdigest())\n",
    "\n",
    "# safe\n",
    "print(hashlib.sha384(word).hexdigest())\n",
    "print(hashlib.sha512(word).hexdigest())\n",
    "print(hashlib.blake2b(word).hexdigest())\n",
    "print(hashlib.sha3_512(word).hexdigest())"
   ],
   "outputs": [
    {
     "name": "stdout",
     "output_type": "stream",
     "text": [
      "0105915c4ec8755466c4f1dde95891b7\n",
      "1b68739675ff9613bbe5e9f9438d619d3c24bf0b\n",
      "0ccbea93f168f0f67a3a6a6c2da0ba49493f67754e7ff0e59f7a45a3\n",
      "ca402dda80be659e109e7f063f1d680ed83011c0942bfe6401348a97ca377380\n",
      "9ac3ea3a7594b386c1a9132f4d0adf11c52ce7ec07e1b9aec74dab5388a90e13e3cffbcd956c329f1cfa56378633a6e7\n",
      "4ed93ac80ff5e7f9c71f9f1fd5b1297e70fd9bbec4b737db47363c837a7120335a81d270ae9ddfcd87ad62b0f31109dd3fb1348b7e77bb810dcc6a1c9e0b7622\n",
      "038e5c4c1155ef04baf5c29c2701d207c864935bb40ee2baa578fb8d948036b8c742ba0ef8117d8df53a9f6e4bafcdd864bfc609158b014f815db84688848d2e\n",
      "1fd855f8dfeb799aa14ce073bf547639fca44320d41218c04d039ab93cb4fbebd00127c05c486e791aafaa17e948950cfadf7042acc36938e141a6e98123c857\n"
     ]
    }
   ],
   "execution_count": 1
  },
  {
   "metadata": {},
   "cell_type": "markdown",
   "source": "- `git` 에서는 `sha1` 을 사용하여 커밋을 구분한다.",
   "id": "65a67032e2464523"
  },
  {
   "metadata": {
    "ExecuteTime": {
     "end_time": "2025-07-17T11:58:26.494012Z",
     "start_time": "2025-07-17T11:58:26.426874Z"
    }
   },
   "cell_type": "code",
   "source": [
    "from argon2 import PasswordHasher, exceptions\n",
    "\n",
    "ph = PasswordHasher()\n",
    "hash = ph.hash(word)\n",
    "\n",
    "print(hash)"
   ],
   "id": "8bbbae811f2458f6",
   "outputs": [
    {
     "name": "stdout",
     "output_type": "stream",
     "text": [
      "$argon2id$v=19$m=65536,t=3,p=4$eO369qfZ5qvhsEh+4Pz6+g$y+TQEtHjWpHhUyJ3kjV6u91CyImiYrrGR9C2ygQAFmg\n"
     ]
    }
   ],
   "execution_count": 2
  },
  {
   "metadata": {},
   "cell_type": "markdown",
   "source": "- `Argon2`는 브루트포스 공격, 사전 공격을 활용하여 비밀번호를 유추하는 것을 어렵게 만든다.",
   "id": "318fd0e07c41de3"
  }
 ],
 "metadata": {
  "kernelspec": {
   "display_name": "Python 3",
   "language": "python",
   "name": "python3"
  },
  "language_info": {
   "codemirror_mode": {
    "name": "ipython",
    "version": 2
   },
   "file_extension": ".py",
   "mimetype": "text/x-python",
   "name": "python",
   "nbconvert_exporter": "python",
   "pygments_lexer": "ipython2",
   "version": "2.7.6"
  }
 },
 "nbformat": 4,
 "nbformat_minor": 5
}
