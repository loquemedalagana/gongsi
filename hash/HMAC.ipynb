{
 "cells": [
  {
   "metadata": {},
   "cell_type": "markdown",
   "source": "# HMAC 기본 코드",
   "id": "15669d4cc91a0589"
  },
  {
   "cell_type": "code",
   "id": "initial_id",
   "metadata": {
    "collapsed": true,
    "ExecuteTime": {
     "end_time": "2025-07-25T02:59:59.140301Z",
     "start_time": "2025-07-25T02:59:59.136025Z"
    }
   },
   "source": [
    "import hmac\n",
    "import hashlib\n",
    "import base64\n",
    "\n",
    "class HMAC:\n",
    "    def __init__(self, secret_key):\n",
    "        self.secret_key = secret_key.encode()\n",
    "\n",
    "    def hmac(self, message):\n",
    "        message = message.encode()\n",
    "        mac = hmac.new(self.secret_key, message, hashlib.sha256)\n",
    "        return base64.b64encode(mac.digest()).decode()\n",
    "\n",
    "# 사용 예시\n",
    "h = HMAC(\"my_secret_key\")\n",
    "print(h.hmac(\"hello\"))\n"
   ],
   "execution_count": 1,
   "outputs": [
    {
     "name": "stdout",
     "output_type": "stream",
     "text": [
      "JjHQKvCJtdKT5vqvjpQfJ815tcvyXIuEijf/lC9F7bg=\n"
     ]
    }
   ]
  },
  {
   "metadata": {},
   "cell_type": "markdown",
   "source": [
    "### ✅ 2. **HMAC과 MAC의 차이**\n",
    "\n",
    "| 항목 | MAC (Message Authentication Code) | HMAC (Hash-based MAC) |\n",
    "| --- | --- | --- |\n",
    "| 정의 | 메시지와 키를 조합하여 인증 코드 생성 | 해시 함수와 키를 조합하여 인증 코드 생성 |\n",
    "| 구조 | 암호학적 블록 암호 또는 다른 구조 사용 가능 | SHA-256, SHA-1 등 해시 기반 알고리즘 사용 |\n",
    "| 특징 | 구현 방식 다양 | 표준화되어 있고 보안 강도 입증됨 |\n",
    "| 표준 | 다양한 방식 존재 | RFC 2104에 정의 |\n",
    "\n",
    "**요약**: HMAC은 MAC의 한 종류이며, 해시 함수를 기반으로 만들어졌고 구조가 표준화되어 보안성과 구현의 일관성을 보장합니다.\n",
    "\n",
    "---\n",
    "\n",
    "### ✅ 3. **틀린 보기 설명**\n",
    "\n",
    "> ❌ RFC2004에서 정의된 HMAC는 수정 없이 이용 가능한 해시함수를 사용하면 소프트웨어 구현이 어렵다\n",
    ">\n",
    "- **틀린 이유**: HMAC은 **기존 해시 함수 (예: SHA-256)** 를 **수정 없이 그대로 사용 가능하도록 설계**되었습니다.\n",
    "- RFC 2104에서는 오히려 “해시 함수를 블랙박스처럼 쓰되, 키와 메시지를 적절히 패딩해 결합”하는 구조를 통해 **간단하고 이식성이 높고 구현이 쉬운 MAC 방식**을 제공합니다.\n",
    "- 즉, 이 보기는 HMAC의 핵심 설계 목표를 반대로 서술한 오류입니다.\n",
    "\n",
    "---"
   ],
   "id": "a1de8d37a9afd912"
  },
  {
   "metadata": {},
   "cell_type": "markdown",
   "source": [
    "### ✅ HMAC 구조 수식 (사람이 이해하기 좋게 정리)\n",
    "\n",
    "### 📌 기본 수식 (RFC 2104)\n",
    "\n",
    "```\n",
    "mathematica\n",
    "복사편집\n",
    "HMAC(K, M) = H[(K' ⊕ opad) || H((K' ⊕ ipad) || M)]\n",
    "\n",
    "```\n",
    "\n",
    "- `K'` : 키 `K`를 블록 크기에 맞춰 padding한 것 (SHA-256은 64바이트)\n",
    "- `⊕` : XOR 연산\n",
    "- `||` : 연결(concatenation)\n",
    "- `ipad` : 0x36로 채운 64바이트\n",
    "- `opad` : 0x5c로 채운 64바이트\n",
    "- `H` : 해시 함수 (예: SHA-256)\n",
    "\n",
    "---\n",
    "\n",
    "### ✅ 수식이 헷갈릴 땐 파이썬 코드로 이해하세요\n"
   ],
   "id": "1378c4289ea5cc2f"
  },
  {
   "metadata": {
    "ExecuteTime": {
     "end_time": "2025-07-25T03:02:31.104744Z",
     "start_time": "2025-07-25T03:02:31.101568Z"
    }
   },
   "cell_type": "code",
   "source": [
    "import hmac\n",
    "import hashlib\n",
    "\n",
    "key = b'secret'\n",
    "message = b'hello'\n",
    "\n",
    "h = hmac.new(key, message, hashlib.sha256)\n",
    "print(h.hexdigest())"
   ],
   "id": "b560f5280770ef6e",
   "outputs": [
    {
     "name": "stdout",
     "output_type": "stream",
     "text": [
      "88aab3ede8d3adf94d26ab90d3bafd4a2083070c3bcce9c014ee04a443847c0b\n"
     ]
    }
   ],
   "execution_count": 2
  },
  {
   "metadata": {},
   "cell_type": "markdown",
   "source": [
    "사실 이 한 줄이 다음과 같은 구조를 따릅니다:\n",
    "\n",
    "```\n",
    "H( (K ⊕ opad) || H((K ⊕ ipad) || M) )\n",
    "\n",
    "```\n",
    "\n",
    "---\n",
    "\n",
    "### ✅ 시각화 요약\n",
    "\n",
    "```\n",
    "1. 키 K가 블록 길이보다 짧으면 → 64바이트로 0 padding\n",
    "2. K xor ipad → 1차 해시 입력값 구성\n",
    "3. K xor opad → 2차 해시 외부 입력값 구성\n",
    "4. 최종 HMAC = H(opad 패딩 + H(ipad 패딩 + message))\n",
    "\n",
    "```\n",
    "\n",
    "---\n",
    "\n",
    "### ✅ 보충 설명: 왜 두 번 해시하나요?\n",
    "\n",
    "- **ipad는 내부 키**: 메시지를 감싸서 보안성을 보장\n",
    "- **opad는 외부 키**: 전체 결과를 숨기기 위한 바깥 레이어\n",
    "- 두 번 해싱은 중간 해시 상태 노출 방지 및 길이 확장 공격 방지 목적\n",
    "\n",
    "---\n",
    "\n",
    "### ✅ HMAC 내부 구조 직접 구현 (SHA-256 기준)"
   ],
   "id": "93e54ff31ad32cbd"
  },
  {
   "metadata": {
    "ExecuteTime": {
     "end_time": "2025-07-25T03:05:53.995535Z",
     "start_time": "2025-07-25T03:05:53.991648Z"
    }
   },
   "cell_type": "code",
   "source": [
    "import hashlib\n",
    "\n",
    "BLOCK_SIZE = 64  # 블록 크기 (SHA-256은 512비트 = 64바이트)\n",
    "IPAD = 0x36\n",
    "OPAD = 0x5C\n",
    "\n",
    "def xor_bytes(a: bytes, b: bytes) -> bytes:\n",
    "    return bytes(x ^ y for x, y in zip(a, b))\n",
    "\n",
    "def hmac_sha256(key: bytes, message: bytes) -> bytes:\n",
    "    # 1. 키가 블록보다 크면 해시해서 줄이고\n",
    "    if len(key) > BLOCK_SIZE:\n",
    "        key = hashlib.sha256(key).digest()\n",
    "    # 2. 키가 블록보다 짧으면 0으로 패딩\n",
    "    if len(key) < BLOCK_SIZE:\n",
    "        key = key.ljust(BLOCK_SIZE, b'\\x00')\n",
    "\n",
    "    # 3. ipad, opad 키 구성\n",
    "    k_ipad = xor_bytes(key, bytes([IPAD] * BLOCK_SIZE))\n",
    "    k_opad = xor_bytes(key, bytes([OPAD] * BLOCK_SIZE))\n",
    "\n",
    "    # 4. 내부 해시 = H(K ⊕ ipad || message)\n",
    "    inner_hash = hashlib.sha256(k_ipad + message).digest()\n",
    "\n",
    "    # 5. 최종 해시 = H(K ⊕ opad || inner_hash)\n",
    "    return hashlib.sha256(k_opad + inner_hash).digest()\n",
    "\n",
    "# 사용 예시\n",
    "key = b'secret_key'\n",
    "message = b'hello'\n",
    "\n",
    "hmac_result = hmac_sha256(key, message)\n",
    "print(\"HMAC-SHA256:\", hmac_result.hex())\n"
   ],
   "id": "28bf7924bc314ee9",
   "outputs": [
    {
     "name": "stdout",
     "output_type": "stream",
     "text": [
      "HMAC-SHA256: 0f166a552b38aeb12ad07055e7bda7f8ab2f22a3a352e481de97b86f17be6bc6\n"
     ]
    }
   ],
   "execution_count": 3
  },
  {
   "metadata": {},
   "cell_type": "markdown",
   "source": [
    "### ✅ 내부 구조 요약\n",
    "\n",
    "| 단계 | 내용 |\n",
    "| --- | --- |\n",
    "| 1️⃣ | 키 길이 확인 및 해시 또는 패딩 처리 |\n",
    "| 2️⃣ | `ipad = 0x36`, `opad = 0x5C`로 xor |\n",
    "| 3️⃣ | 내부 해시: `H(K⊕ipad |\n",
    "| 4️⃣ | 외부 해시: `H(K⊕opad |\n",
    "| ✅ | 결과: HMAC-SHA256 해시 출력 |\n",
    "\n",
    "---\n",
    "\n",
    "### 📌 참고: 표준 구현과 비교\n",
    "\n",
    "위 코드는 아래의 간단 코드와 **동일한 결과**를 출력합니다:"
   ],
   "id": "56bf5cf0cf756e33"
  },
  {
   "metadata": {
    "ExecuteTime": {
     "end_time": "2025-07-25T03:05:57.750106Z",
     "start_time": "2025-07-25T03:05:57.747627Z"
    }
   },
   "cell_type": "code",
   "source": [
    "import hmac, hashlib\n",
    "h = hmac.new(b'secret_key', b'hello', hashlib.sha256)\n",
    "print(h.digest())"
   ],
   "id": "cacc2c2f08fdb0e0",
   "outputs": [
    {
     "name": "stdout",
     "output_type": "stream",
     "text": [
      "b'\\x0f\\x16jU+8\\xae\\xb1*\\xd0pU\\xe7\\xbd\\xa7\\xf8\\xab/\"\\xa3\\xa3R\\xe4\\x81\\xde\\x97\\xb8o\\x17\\xbek\\xc6'\n"
     ]
    }
   ],
   "execution_count": 4
  },
  {
   "metadata": {},
   "cell_type": "markdown",
   "source": [
    "### ✅ HMAC에서 `secret key`는 무엇인가요?\n",
    "\n",
    "- **수신자와 송신자가 미리 공유**한 **비밀 키(secret key)**입니다.\n",
    "- 대칭키 방식이라 **양쪽이 동일한 키를 갖고 있어야** HMAC을 생성하고 검증할 수 있습니다.\n",
    "\n",
    "---\n",
    "\n",
    "### 🔐 HMAC 사용 구조 요약\n",
    "\n",
    "```\n",
    "[ 송신자 ]\n",
    "  message + secret_key → HMAC 생성 → 전송\n",
    "                    ↓\n",
    "[ 수신자 ]\n",
    "  message + secret_key → HMAC 재계산 → 비교 (위조 여부 확인)\n",
    "```\n",
    "\n",
    "- **송신자**: 메시지와 키로 HMAC을 계산해서 함께 전송\n",
    "- **수신자**: 동일한 키로 HMAC을 다시 계산 → 받은 값과 비교\n",
    "- HMAC이 다르면? → 누가 내용을 바꾸었거나, 키가 틀림\n",
    "\n",
    "---\n",
    "\n",
    "### ❗ 비교: 디지털 서명과 차이점\n",
    "\n",
    "| 항목 | HMAC | 디지털 서명 |\n",
    "| --- | --- | --- |\n",
    "| 방식 | 대칭키 | 비대칭키 |\n",
    "| 키 공유 | 사전 공유 필요 | 공개키 배포 가능 |\n",
    "| 용도 | 무결성 + 인증 | 무결성 + 인증 + 부인방지 |\n",
    "| 사용 예 | JWT HMAC 방식, API 인증 | 전자서명, 블록체인 |"
   ],
   "id": "ebefe7639eecebcc"
  }
 ],
 "metadata": {
  "kernelspec": {
   "display_name": "Python 3",
   "language": "python",
   "name": "python3"
  },
  "language_info": {
   "codemirror_mode": {
    "name": "ipython",
    "version": 2
   },
   "file_extension": ".py",
   "mimetype": "text/x-python",
   "name": "python",
   "nbconvert_exporter": "python",
   "pygments_lexer": "ipython2",
   "version": "2.7.6"
  }
 },
 "nbformat": 4,
 "nbformat_minor": 5
}
