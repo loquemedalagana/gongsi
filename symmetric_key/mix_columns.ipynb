{
 "cells": [
  {
   "metadata": {},
   "cell_type": "markdown",
   "source": "# mixColumn()",
   "id": "4386480ac2da3b0c"
  },
  {
   "cell_type": "code",
   "id": "initial_id",
   "metadata": {
    "collapsed": true,
    "ExecuteTime": {
     "end_time": "2025-07-17T11:11:21.415610Z",
     "start_time": "2025-07-17T11:11:21.411472Z"
    }
   },
   "source": [
    "def convert_hex_to_dec(data: str):\n",
    "    return int(data, 16)\n",
    "\n",
    "def convert_dec_to_hex(data: int):\n",
    "    return hex(data)[2:].zfill(2)\n",
    "\n",
    "def multiply__2(data: int):\n",
    "    shifted = data << 1\n",
    "    if data & 0x80:  # 8번째 비트가 1이면\n",
    "        shifted ^= 0x1B\n",
    "    return shifted & 0xFF  # 8비트 제한\n",
    "\n",
    "def multiply__3(data: int):\n",
    "    return multiply__2(data) ^ data\n",
    "\n",
    "text = '0123456789abcdef0123456789abcdef'  # 32 hex → 16 bytes → 4열 (AES 상태행렬)\n",
    "part_length = 8  # 각 열 8 hex (4바이트)\n",
    "columns = [text[i:i+part_length] for i in range(0, len(text), part_length)]\n",
    "\n",
    "out = ''\n",
    "\n",
    "for col in columns:\n",
    "    # 2자리씩 슬라이싱해서 s1~s4 추출 (총 4개 바이트)\n",
    "    s1 = convert_hex_to_dec(col[0:2])\n",
    "    s2 = convert_hex_to_dec(col[2:4])\n",
    "    s3 = convert_hex_to_dec(col[4:6])\n",
    "    s4 = convert_hex_to_dec(col[6:8])\n",
    "\n",
    "    # MixColumns 열 연산 수행\n",
    "    out_s1 = multiply__2(s1) ^ multiply__3(s2) ^ s3 ^ s4\n",
    "    out_s2 = s1 ^ multiply__2(s2) ^ multiply__3(s3) ^ s4\n",
    "    out_s3 = s1 ^ s2 ^ multiply__2(s3) ^ multiply__3(s4)\n",
    "    out_s4 = multiply__3(s1) ^ s2 ^ s3 ^ multiply__2(s4)\n",
    "\n",
    "    # 결과 연결\n",
    "    out += convert_dec_to_hex(out_s1)\n",
    "    out += convert_dec_to_hex(out_s2)\n",
    "    out += convert_dec_to_hex(out_s3)\n",
    "    out += convert_dec_to_hex(out_s4)\n",
    "\n",
    "print(\"MixColumns 결과 (hex):\", out)\n"
   ],
   "execution_count": 3,
   "outputs": [
    {
     "name": "stdout",
     "output_type": "stream",
     "text": [
      "MixColumns 결과 (hex): 45ef01abcd67892345ef01abcd678923\n"
     ]
    }
   ]
  },
  {
   "metadata": {},
   "cell_type": "markdown",
   "source": [
    "AES에서 **복호화용 MixColumns**, 즉 `InvMixColumns` 연산은 암호화 때 사용된 MixColumns의 **역함수**입니다. 구조는 거의 동일하지만, 사용하는 상수가 다릅니다.\n",
    "\n",
    "---\n",
    "\n",
    "## 🔁 AES MixColumns vs InvMixColumns (1열 기준)\n",
    "\n",
    "| 출력 바이트 | 암호화(MixColumns) | 복호화(InvMixColumns) |\n",
    "| --- | --- | --- |\n",
    "| `s1'` | `2·s1 ⊕ 3·s2 ⊕ s3 ⊕ s4` | `14·s1 ⊕ 11·s2 ⊕ 13·s3 ⊕ 9·s4` |\n",
    "| `s2'` | `s1 ⊕ 2·s2 ⊕ 3·s3 ⊕ s4` | `9·s1 ⊕ 14·s2 ⊕ 11·s3 ⊕ 13·s4` |\n",
    "| `s3'` | `s1 ⊕ s2 ⊕ 2·s3 ⊕ 3·s4` | `13·s1 ⊕ 9·s2 ⊕ 14·s3 ⊕ 11·s4` |\n",
    "| `s4'` | `3·s1 ⊕ s2 ⊕ s3 ⊕ 2·s4` | `11·s1 ⊕ 13·s2 ⊕ 9·s3 ⊕ 14·s4` |"
   ],
   "id": "129a3d789e51a563"
  },
  {
   "metadata": {
    "ExecuteTime": {
     "end_time": "2025-07-17T11:14:11.552093Z",
     "start_time": "2025-07-17T11:14:11.548666Z"
    }
   },
   "cell_type": "code",
   "source": [
    "def multiply(data: int, factor: int) -> int:\n",
    "    result = 0\n",
    "    for i in range(8):\n",
    "        if factor & 1:\n",
    "            result ^= data\n",
    "        hi_bit = data & 0x80\n",
    "        data = (data << 1) & 0xFF\n",
    "        if hi_bit:\n",
    "            data ^= 0x1B\n",
    "        factor >>= 1\n",
    "    return result\n",
    "\n",
    "def inv_mix_single_column(s1, s2, s3, s4):\n",
    "    o1 = multiply(s1, 14) ^ multiply(s2, 11) ^ multiply(s3, 13) ^ multiply(s4, 9)\n",
    "    o2 = multiply(s1, 9)  ^ multiply(s2, 14) ^ multiply(s3, 11) ^ multiply(s4, 13)\n",
    "    o3 = multiply(s1, 13) ^ multiply(s2, 9)  ^ multiply(s3, 14) ^ multiply(s4, 11)\n",
    "    o4 = multiply(s1, 11) ^ multiply(s2, 13) ^ multiply(s3, 9)  ^ multiply(s4, 14)\n",
    "    return o1, o2, o3, o4\n"
   ],
   "id": "cd7b9cc1aa0edcf",
   "outputs": [],
   "execution_count": 4
  },
  {
   "metadata": {
    "ExecuteTime": {
     "end_time": "2025-07-17T11:14:13.428491Z",
     "start_time": "2025-07-17T11:14:13.425832Z"
    }
   },
   "cell_type": "code",
   "source": [
    "# 앞서 MixColumns 했던 hex 블록 out 를 다시 복호화\n",
    "restored = ''\n",
    "for i in range(0, len(out), 8):\n",
    "    s1 = convert_hex_to_dec(out[i:i+2])\n",
    "    s2 = convert_hex_to_dec(out[i+2:i+4])\n",
    "    s3 = convert_hex_to_dec(out[i+4:i+6])\n",
    "    s4 = convert_hex_to_dec(out[i+6:i+8])\n",
    "\n",
    "    r1, r2, r3, r4 = inv_mix_single_column(s1, s2, s3, s4)\n",
    "\n",
    "    restored += convert_dec_to_hex(r1)\n",
    "    restored += convert_dec_to_hex(r2)\n",
    "    restored += convert_dec_to_hex(r3)\n",
    "    restored += convert_dec_to_hex(r4)\n",
    "\n",
    "print(\"복호화된 값:\", restored)\n",
    "print(\"원본과 같나?\", restored == text)\n"
   ],
   "id": "f11629cf51aab52b",
   "outputs": [
    {
     "name": "stdout",
     "output_type": "stream",
     "text": [
      "복호화된 값: 0123456789abcdef0123456789abcdef\n",
      "원본과 같나? True\n"
     ]
    }
   ],
   "execution_count": 5
  }
 ],
 "metadata": {
  "kernelspec": {
   "display_name": "Python 3",
   "language": "python",
   "name": "python3"
  },
  "language_info": {
   "codemirror_mode": {
    "name": "ipython",
    "version": 2
   },
   "file_extension": ".py",
   "mimetype": "text/x-python",
   "name": "python",
   "nbconvert_exporter": "python",
   "pygments_lexer": "ipython2",
   "version": "2.7.6"
  }
 },
 "nbformat": 4,
 "nbformat_minor": 5
}
