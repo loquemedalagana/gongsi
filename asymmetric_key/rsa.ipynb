{
 "cells": [
  {
   "metadata": {},
   "cell_type": "markdown",
   "source": "# RSA practice",
   "id": "6028f1121b521449"
  },
  {
   "cell_type": "code",
   "id": "initial_id",
   "metadata": {
    "collapsed": true,
    "ExecuteTime": {
     "end_time": "2025-07-19T10:08:29.487627Z",
     "start_time": "2025-07-19T10:08:29.276173Z"
    }
   },
   "source": [
    "import rsa\n",
    "\n",
    "public_key, private_key = rsa.newkeys(1024)\n",
    "plain_text = b\"hello\"\n",
    "encoded_text = rsa.encrypt(plain_text, public_key)\n",
    "\n",
    "decoded_text = rsa.decrypt(encoded_text, private_key)\n",
    "print(f\"plain_text: {plain_text}\")\n",
    "print(f\"encoded_text: {encoded_text}\")\n",
    "print(f\"decoded_text: {decoded_text}\")\n"
   ],
   "outputs": [
    {
     "name": "stdout",
     "output_type": "stream",
     "text": [
      "plain_text: b'hello'\n",
      "encoded_text: b\"\\x80\\xb8\\x93\\xe3\\xb8\\xfc\\x80\\x15\\x98\\xaa\\x13\\x0c\\xf8{L\\xe10\\x8b\\xd2\\x9ew\\xc7\\x1e\\xd6v\\xd5\\xda\\x97F\\x19\\x06\\xed\\x9d\\x05\\t\\x8b\\xcfY\\xca\\xef\\xf6-'\\xe0<\\xa3\\x1b3z\\x89\\xfe\\rRK\\x15\\xab\\xf9!\\xfb\\xea\\x14\\x8fFVQ*\\xf9V\\x01\\xae\\xb58\\x06\\xb3\\xd6l\\xf4\\x108X\\xaa\\xc6F?\\xda.c\\xdcK\\xdd\\xe3\\xb0\\x80\\xd6\\xf6\\x81\\xb5\\x9f\\x92E\\xaf\\x8fv\\xa6h\\xd7\\xa6\\x03s\\xb5\\x85\\x87m\\x87j\\xb2\\x13=[\\xd6\\xaf\\xd0*\\x8a\\xdb\\x02\\xd8\\xd2\"\n",
      "decoded_text: b'hello'\n"
     ]
    }
   ],
   "execution_count": 1
  },
  {
   "metadata": {},
   "cell_type": "markdown",
   "source": "## PKI signature",
   "id": "976ade9ce2813e8d"
  },
  {
   "metadata": {
    "ExecuteTime": {
     "end_time": "2025-07-19T10:10:54.756004Z",
     "start_time": "2025-07-19T10:10:54.750336Z"
    }
   },
   "cell_type": "code",
   "source": [
    "message = b\"fuck\"\n",
    "signature = rsa.sign(message, private_key, 'SHA-512')\n",
    "check = rsa.verify(message, signature, public_key)\n",
    "\n",
    "print(f\"signed message: {message}\")\n",
    "print(f\"encrypted: {signature}\")\n",
    "print(f\"I am who signed: {check}\")"
   ],
   "id": "2b58773f88e469c1",
   "outputs": [
    {
     "name": "stdout",
     "output_type": "stream",
     "text": [
      "signed message: b'fuck'\n",
      "encrypted: b')\\x10\\n\\x15\\x9c\\xd5\\xf8\\xe2\\xd6\\xb9\\xa7\\xe0\\xc5H\\xd8\\xb0\\xe45\\xfd\\xdf,\\x81\\xfc\\xd84\\xdfG0\\xb3\\x01\\x1f\\x08\\xbe\\xa1\\xd7\\xfd\\x0e\\xffY\"\\x9b\\xa0o6\\x93\\x9a/r*y`\\xcayCp\\xfc\\xdf\\xec(\\xfe@\\x96b\\xa6\\xae$\\xa2a\\xc6\\xbe\\\\dp\\x03\\x12\\xd0\\xc8\\xc8y\\x15\\xbd\\xd08=\\xe0@\\x94\\x8a\\xbc\\xb9b\\x84\\xd4Pmy?\\xa0\\xcd\\xff\\x92\\xfc\\xd1\\x03\\xc8\\xd9\\xbd\\xf1/\\xed\\xf0\\xd6c\\xeb:\\xee\\xd0g1\\xbbH\\xa3J\\x05\\xf9\\x03a]'\n",
      "I am who signed: SHA-512\n"
     ]
    }
   ],
   "execution_count": 2
  },
  {
   "metadata": {},
   "cell_type": "markdown",
   "source": [
    "## 소인수분해\n",
    "- 푸는 과정은 명확한데, 풀 때?"
   ],
   "id": "583cd319d4e382a3"
  }
 ],
 "metadata": {
  "kernelspec": {
   "display_name": "Python 3",
   "language": "python",
   "name": "python3"
  },
  "language_info": {
   "codemirror_mode": {
    "name": "ipython",
    "version": 2
   },
   "file_extension": ".py",
   "mimetype": "text/x-python",
   "name": "python",
   "nbconvert_exporter": "python",
   "pygments_lexer": "ipython2",
   "version": "2.7.6"
  }
 },
 "nbformat": 4,
 "nbformat_minor": 5
}
