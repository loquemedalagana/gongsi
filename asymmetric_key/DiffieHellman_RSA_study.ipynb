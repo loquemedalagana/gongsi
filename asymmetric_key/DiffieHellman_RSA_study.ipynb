{
 "cells": [
  {
   "cell_type": "markdown",
   "metadata": {},
   "source": [
    "# Diffie-Hellman & RSA Key Exchange 정리 및 실습\n",
    "\n",
    "공무원 시험 및 보안기사 필기 대비 실무자용 Python 실습 노트북입니다.\n",
    "\n",
    "## Diffie-Hellman Key Exchange\n",
    "\n",
    "1. 공개소수 `p`, 원시근 `g`를 공유한다.\n",
    "2. Alice는 비밀키 `a`, Bob은 비밀키 `b`를 고른다.\n",
    "3. Alice는 공개키 `A = g^a mod p`, Bob은 `B = g^b mod p` 계산 후 교환\n",
    "4. 공유 비밀키: `K = B^a mod p = A^b mod p`\n"
   ],
   "id": "75dfa5cf3752cc7b"
  },
  {
   "cell_type": "code",
   "metadata": {
    "ExecuteTime": {
     "end_time": "2025-07-22T12:15:33.783189Z",
     "start_time": "2025-07-22T12:15:33.777211Z"
    }
   },
   "source": [
    "# Diffie-Hellman 구현 예제\n",
    "def diffie_hellman(p, g, a, b):\n",
    "    A = pow(g, a, p)\n",
    "    B = pow(g, b, p)\n",
    "    shared_key_alice = pow(B, a, p)\n",
    "    shared_key_bob = pow(A, b, p)\n",
    "    return A, B, shared_key_alice, shared_key_bob\n",
    "\n",
    "# 예시\n",
    "p = 23  # 소수\n",
    "g = 5   # 원시근\n",
    "a = 6   # Alice의 비밀키\n",
    "b = 15  # Bob의 비밀키\n",
    "\n",
    "A, B, key_alice, key_bob = diffie_hellman(p, g, a, b)\n",
    "print(\"Alice의 공개키 A:\", A)\n",
    "print(\"Bob의 공개키 B:\", B)\n",
    "print(\"Alice가 계산한 공유키:\", key_alice)\n",
    "print(\"Bob이 계산한 공유키:\", key_bob)"
   ],
   "id": "60ba17c9e622c315",
   "outputs": [
    {
     "name": "stdout",
     "output_type": "stream",
     "text": [
      "Alice의 공개키 A: 8\n",
      "Bob의 공개키 B: 19\n",
      "Alice가 계산한 공유키: 2\n",
      "Bob이 계산한 공유키: 2\n"
     ]
    }
   ],
   "execution_count": 1
  },
  {
   "cell_type": "markdown",
   "metadata": {},
   "source": [
    "## RSA Key Generation & Encryption/Decryption\n",
    "\n",
    "1. 소수 `p`, `q` 선택\n",
    "2. `n = p * q`, `phi = (p-1)*(q-1)` 계산\n",
    "3. `1 < e < phi` 이면서 서로소인 `e` 선택\n",
    "4. `d ≡ e⁻¹ mod phi` (e의 모듈러 역원) 계산\n",
    "5. 공개키 `(e, n)`, 개인키 `(d, n)`\n",
    "6. 암호화: `C = M^e mod n`, 복호화: `M = C^d mod n`\n"
   ],
   "id": "9e1dfcdaf299dc6c"
  },
  {
   "cell_type": "code",
   "metadata": {
    "ExecuteTime": {
     "end_time": "2025-07-22T12:15:37.530967Z",
     "start_time": "2025-07-22T12:15:37.362991Z"
    }
   },
   "source": [
    "# RSA 구현 예제\n",
    "from sympy import mod_inverse, isprime, gcd\n",
    "\n",
    "def rsa_keygen(p, q, e):\n",
    "    assert isprime(p) and isprime(q), \"p, q는 소수여야 함\"\n",
    "    n = p * q\n",
    "    phi = (p - 1) * (q - 1)\n",
    "    assert gcd(e, phi) == 1, \"e와 phi는 서로소여야 함\"\n",
    "    d = mod_inverse(e, phi)\n",
    "    return (e, n), (d, n)\n",
    "\n",
    "def rsa_encrypt(m, pubkey):\n",
    "    e, n = pubkey\n",
    "    return pow(m, e, n)\n",
    "\n",
    "def rsa_decrypt(c, privkey):\n",
    "    d, n = privkey\n",
    "    return pow(c, d, n)\n",
    "\n",
    "# 예시\n",
    "p, q = 61, 53\n",
    "e = 17\n",
    "pubkey, privkey = rsa_keygen(p, q, e)\n",
    "message = 65\n",
    "\n",
    "cipher = rsa_encrypt(message, pubkey)\n",
    "print(\"암호문:\", cipher)\n",
    "plain = rsa_decrypt(cipher, privkey)\n",
    "print(\"복호화된 평문:\", plain)"
   ],
   "id": "eec2b890e4edc102",
   "outputs": [
    {
     "name": "stdout",
     "output_type": "stream",
     "text": [
      "암호문: 2790\n",
      "복호화된 평문: 65\n"
     ]
    }
   ],
   "execution_count": 2
  },
  {
   "cell_type": "markdown",
   "metadata": {},
   "source": [
    "## ECC (Elliptic Curve Cryptography) 개념 및 실습\n",
    "\n",
    "- 타원곡선 위의 덧셈/곱셈 연산 사용\n",
    "- E: y² = x³ + ax + b (mod p) 형태의 곡선 위의 점들을 이용\n",
    "- 개인키: 정수 `k`, 공개키: `R = kP` (P는 공개된 곡선 위 점)\n",
    "- 문제: `P`, `R`가 주어졌을 때 `k`를 찾는 것 → 이산로그 문제\n",
    "\n",
    "👉 공무원/보안기사 시험에서 나오는 유형: `R = kP` 만족하는 `k`를 그래프 보고 찾기 (시각적 순환 구조)\n"
   ],
   "id": "b8bc255f84e8149d"
  },
  {
   "cell_type": "code",
   "metadata": {
    "ExecuteTime": {
     "end_time": "2025-07-22T12:15:41.240110Z",
     "start_time": "2025-07-22T12:15:41.235502Z"
    }
   },
   "source": [
    "# ECC 곡선 상의 점 덧셈 구현 (단순한 예시, 실제는 더 복잡함)\n",
    "# y^2 = x^3 + ax + b over finite field mod p\n",
    "def inverse_mod(k, p):\n",
    "    return pow(k, -1, p)\n",
    "\n",
    "def ecc_add(P, Q, a, p):\n",
    "    if P == Q:\n",
    "        l = (3 * P[0]**2 + a) * inverse_mod(2 * P[1], p)\n",
    "    else:\n",
    "        l = (Q[1] - P[1]) * inverse_mod(Q[0] - P[0], p)\n",
    "    l %= p\n",
    "    x_r = (l**2 - P[0] - Q[0]) % p\n",
    "    y_r = (l * (P[0] - x_r) - P[1]) % p\n",
    "    return (x_r, y_r)\n",
    "\n",
    "def ecc_mul(P, k, a, p):\n",
    "    R = P\n",
    "    for _ in range(k - 1):\n",
    "        R = ecc_add(R, P, a, p)\n",
    "    return R\n",
    "\n",
    "# 예시: E: y^2 = x^3 + 2x + 2 mod 17\n",
    "a, b, p = 2, 2, 17\n",
    "P = (5, 1)\n",
    "k = 7\n",
    "R = ecc_mul(P, k, a, p)\n",
    "print(f\"k = {k}일 때 R = kP = {R}\")"
   ],
   "id": "66fea5e0a92c3f57",
   "outputs": [
    {
     "name": "stdout",
     "output_type": "stream",
     "text": [
      "k = 7일 때 R = kP = (0, 6)\n"
     ]
    }
   ],
   "execution_count": 3
  },
  {
   "cell_type": "markdown",
   "metadata": {},
   "source": [
    "## ElGamal 암호 (이산대수 문제 기반)\n",
    "\n",
    "- 공개키: `(p, a, y)` (소수 p, 원시근 a, y = a^x mod p)\n",
    "- 개인키: `x`\n",
    "- 시험문제: `y = a^x mod p` 만족하는 x는? → 이산로그 문제\n",
    "- p 작을 때는 bruteforce로 `x` 찾기 가능\n"
   ],
   "id": "4889fe1d18de458b"
  },
  {
   "cell_type": "code",
   "metadata": {
    "ExecuteTime": {
     "end_time": "2025-07-22T12:15:45.094576Z",
     "start_time": "2025-07-22T12:15:45.091536Z"
    }
   },
   "source": [
    "# ElGamal 이산로그 문제\n",
    "def discrete_log_brute(a, y, p):\n",
    "    for x in range(1, p):\n",
    "        if pow(a, x, p) == y:\n",
    "            return x\n",
    "    return None\n",
    "\n",
    "# 예시\n",
    "p = 23\n",
    "a = 5\n",
    "y = 4\n",
    "x = discrete_log_brute(a, y, p)\n",
    "print(f\"a = {a}, y = {y}, p = {p}일 때, a^x ≡ y mod p 를 만족하는 x = {x}\")"
   ],
   "id": "33e8d1fe4f4f389d",
   "outputs": [
    {
     "name": "stdout",
     "output_type": "stream",
     "text": [
      "a = 5, y = 4, p = 23일 때, a^x ≡ y mod p 를 만족하는 x = 4\n"
     ]
    }
   ],
   "execution_count": 4
  }
 ],
 "metadata": {
  "kernelspec": {
   "display_name": "Python 3",
   "language": "python",
   "name": "python3"
  },
  "language_info": {
   "name": "python"
  }
 },
 "nbformat": 4,
 "nbformat_minor": 5
}
