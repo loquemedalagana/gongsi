{
 "cells": [
  {
   "metadata": {},
   "cell_type": "markdown",
   "source": [
    "# S/KEY 해시체인 인증 구조를 Python + FastAPI로 초간단하게 구현한 예시\n",
    "\n",
    "## ✅ 목적\n",
    "\n",
    "- 클라이언트는 해시체인의 다음 값을 보내고,\n",
    "- 서버는 저장된 값의 **한 단계 전 해시값과 일치**하는지 확인하고,\n",
    "- 일치하면 인증 성공 → 해시체인을 한 칸 내려 저장\n",
    "\n",
    "---\n",
    "\n",
    "## ✅ 코드: FastAPI 기반 S/KEY 인증 서버"
   ],
   "id": "35ef5780856405e1"
  },
  {
   "cell_type": "code",
   "id": "initial_id",
   "metadata": {
    "collapsed": true,
    "ExecuteTime": {
     "end_time": "2025-07-26T06:09:49.188092Z",
     "start_time": "2025-07-26T06:09:49.054562Z"
    }
   },
   "source": [
    "from fastapi import FastAPI, HTTPException\n",
    "from pydantic import BaseModel\n",
    "import hashlib\n",
    "\n",
    "app = FastAPI()\n",
    "\n",
    "# 임시 저장소 (실제론 DB)\n",
    "server_store = {\n",
    "    \"username\": \"a81f2c...\"  # 서버는 H^n(password)만 저장\n",
    "}\n",
    "\n",
    "# 클라이언트 요청 스키마\n",
    "class AuthRequest(BaseModel):\n",
    "    username: str\n",
    "    otp: str\n",
    "\n",
    "def hash_once(data: str) -> str:\n",
    "    return hashlib.sha256(data.encode()).hexdigest()\n",
    "\n",
    "@app.post(\"/auth\")\n",
    "def authenticate(req: AuthRequest):\n",
    "    stored_hash = server_store.get(req.username)\n",
    "\n",
    "    if not stored_hash:\n",
    "        raise HTTPException(status_code=404, detail=\"User not found\")\n",
    "\n",
    "    # 사용자가 보낸 OTP를 한 번 더 해시해서 비교\n",
    "    if hash_once(req.otp) == stored_hash:\n",
    "        # 인증 성공 → 서버는 다음 단계 값 저장\n",
    "        server_store[req.username] = req.otp\n",
    "        return {\"status\": \"success\", \"message\": \"Authentication passed\"}\n",
    "    else:\n",
    "        raise HTTPException(status_code=401, detail=\"Invalid OTP\")\n",
    "\n"
   ],
   "outputs": [],
   "execution_count": 1
  },
  {
   "metadata": {},
   "cell_type": "markdown",
   "source": [
    "## ✅ 사용 예시\n",
    "\n",
    "### 1. 서버 초기 저장값 (예: `H^3(password)`) 저장\n",
    "\n",
    "```python\n",
    "# 예시 초기값 설정 (클라이언트는 H^2(password) 준비)\n",
    "server_store = {\n",
    "    \"username\": \"c9d1ef9db19adf8b231...\"  # <- H^3(P)\n",
    "}\n",
    "\n",
    "```\n",
    "\n",
    "### 2. 클라이언트는 H^2(P)를 보내고,\n",
    "\n",
    "서버는 `H(H^2(P)) == H^3(P)`를 비교하여 통과 여부 판단\n",
    "\n",
    "---\n",
    "\n",
    "## ✅ 실행 방법\n",
    "\n",
    "1. `uvicorn main:app --reload`\n",
    "2. Postman 또는 `curl`로 테스트\n",
    "\n",
    "```bash\n",
    "curl -X POST http://localhost:8000/auth \\\n",
    " -H \"Content-Type: application/json\" \\\n",
    " -d '{\"username\": \"username\", \"otp\": \"<사용자 측 OTP>\"}'\n",
    "```\n",
    "\n",
    "---\n",
    "\n",
    "## ✅ 장점\n",
    "\n",
    "- 외부 라이브러리 없음 (`hashlib`, `fastapi`, `pydantic`만)\n",
    "- 암호 저장 필요 없음\n",
    "- 비동기식 → 시간 동기화 X\n",
    "\n",
    "---\n",
    "\n",
    "## ✅ 한줄 요약\n",
    "\n",
    "> 이 코드는 \"서버는 현재 해시값(H^n)을 저장하고, 클라이언트는 H^(n-1)을 보내 인증하는 S/KEY 구조를 구현\"한 인증 API입니다.\n",
    ">"
   ],
   "id": "5d804c3382ef3ecf"
  }
 ],
 "metadata": {
  "kernelspec": {
   "display_name": "Python 3",
   "language": "python",
   "name": "python3"
  },
  "language_info": {
   "codemirror_mode": {
    "name": "ipython",
    "version": 2
   },
   "file_extension": ".py",
   "mimetype": "text/x-python",
   "name": "python",
   "nbconvert_exporter": "python",
   "pygments_lexer": "ipython2",
   "version": "2.7.6"
  }
 },
 "nbformat": 4,
 "nbformat_minor": 5
}
