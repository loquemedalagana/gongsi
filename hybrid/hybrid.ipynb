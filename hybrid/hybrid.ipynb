{
 "cells": [
  {
   "metadata": {},
   "cell_type": "markdown",
   "source": [
    "# 하이브리드 암호 시스템\n",
    "\n",
    "### 🔐 하이브리드 암호 시스템 구조 요약:\n",
    "\n",
    "- **비대칭키 암호 (공개키/개인키)**: 세션 키를 안전하게 전달하는 데 사용\n",
    "    - 예: RSA, ECC 등\n",
    "    - 데이터량이 많거나 속도가 중요한 실제 메시지 암호화에는 비효율적\n",
    "- **대칭키 암호 (세션 키)**: 본문 메시지를 암호화하는 데 사용\n",
    "    - 예: AES, ChaCha20 등\n",
    "    - 빠르고 효율적이지만 키 분배 문제가 있음\n",
    "\n",
    "---\n",
    "\n",
    "### 💡 정리:\n",
    "\n",
    "- **세션 키 = 대칭 키**\n",
    "- 하이브리드 암호 방식에서는 세션 키를 임의로 생성하여 **공개키로 암호화하여 전송**하고,\n",
    "- 수신자는 **개인키로 복호화**하여 세션 키를 얻은 뒤, 이후 통신은 세션 키(AES 등)로 암호화된 데이터를 주고받습니다.\n",
    "\n",
    "---\n",
    "\n",
    "시험 대비용 포인트:\n",
    "\n",
    "> “하이브리드 암호 시스템에서 세션 키는 대칭 암호 알고리즘에 사용되는 임시 키로, 공개키 암호화 방식으로 안전하게 전달된다.” ✅\n",
    ">\n",
    "\n",
    "### 🧠 전제 개념 정리\n",
    "\n",
    "| 내용 | 사용 키 | 목적 |\n",
    "| --- | --- | --- |\n",
    "| 🔒 데이터 암호화 | 대칭키(K_AB) | 빠르고 효율적인 암호화 |\n",
    "| 🔐 세션키(K_AB) 전달 | 수신자의 공개키(PU_B)로 암호화 | 안전한 키 교환 |\n",
    "| 🔓 세션키 복호화 | 수신자의 개인키(PR_B) | 수신자가 세션키 획득 |\n",
    "\n",
    "---\n",
    "\n",
    "## 💻 파이썬 조각 예시: 하이브리드 암호 시스템"
   ],
   "id": "b45ca0927cafb9ef"
  },
  {
   "cell_type": "code",
   "id": "initial_id",
   "metadata": {
    "collapsed": true,
    "ExecuteTime": {
     "end_time": "2025-07-25T03:24:48.743940Z",
     "start_time": "2025-07-25T03:24:48.617606Z"
    }
   },
   "source": [
    "from Crypto.Cipher import AES, PKCS1_OAEP\n",
    "from Crypto.PublicKey import RSA\n",
    "from Crypto.Random import get_random_bytes\n",
    "import base64\n",
    "\n",
    "# 1. 수신자 B의 공개/개인 키 생성 (비대칭)\n",
    "receiver_key = RSA.generate(2048)\n",
    "public_key_B = receiver_key.publickey()\n",
    "cipher_rsa_enc = PKCS1_OAEP.new(public_key_B)     # 암호화용 (공개키)\n",
    "cipher_rsa_dec = PKCS1_OAEP.new(receiver_key)     # 복호화용 (개인키)\n",
    "\n",
    "# 2. 세션 키 생성 (대칭키)\n",
    "session_key = get_random_bytes(16)  # AES-128\n",
    "\n",
    "# 3. 송신자가 메시지를 AES로 암호화\n",
    "message = b\"Hello, this is a secret message\"\n",
    "cipher_aes = AES.new(session_key, AES.MODE_EAX)\n",
    "ciphertext, tag = cipher_aes.encrypt_and_digest(message)\n",
    "\n",
    "# 4. 송신자가 세션 키를 수신자의 공개키로 암호화\n",
    "encrypted_session_key = cipher_rsa_enc.encrypt(session_key)\n",
    "\n",
    "# ===> 송신자가 전송하는 것\n",
    "# ciphertext, encrypted_session_key, nonce, tag\n",
    "print(ciphertext)\n",
    "print(encrypted_session_key)\n"
   ],
   "outputs": [
    {
     "name": "stdout",
     "output_type": "stream",
     "text": [
      "b'm\\xd0M\\xcacl\\xf7\\x06\\xbc\\x83\"\\x87\\xea\\xf1\\x99\\xeb\\x94\\xedc\\x00qG\\xfc?Tp\\xdaf \\x83.'\n",
      "b'/\\xc3\\xedu\\\\\\xf9\\xee\\x828;\\xe7\\x9f\\xad\\xc5\\xe6_\\x10_\\x0f}b\\xeeA\\xa0\\x15*}\\xf0\\x8e\\xefz\\xd6\\x84={\\xfd\\xb0\\x8bH\\x84\\xd2\\x1dSsX\\xc4e\\x13\\xd6a+\\xac\\xd4H\\xf5\\xad\\xfa}r\\x98\\x92\\x80)\\xa1y{\\xeb\\xb2_(\\xe1\\x11\\xd5\\xcc\\x956\\xdf\\x0c\\xa9\\xf7wu1m\\xf7\\xbcB\\x85\\x84h\\xe0\\x99\\x15\\x9a\\xeb\\x824DPf\\x0b\\xbe\\xb4\\xa3e\\x05\\x05\\x02q\\x13qh\\xd9\\n\\x84\\xfe\\xb7\\x10\\x87\\xfaR\\x82b\\x83Z\\xfe\\xad[\\xe0\\x99iv\\x8d\\x97\\x8e\\x02\\x17\\xade\\xfc355\\x8ef\\x7f\\x0e\\x13A(\\x11O\\x84\\xc0e\\x94|\\xac\\xa9\\xa1f#+GY\\r\\x89e=\\xac[\\x816?\\x95\\xc1\\xa3<\\xebH\\x84\\xaa\\xba\\x81\\x86vfa\\x0e!tfUW\\xb9]\\xf9\\xb5\\xd8\\x9cVA\\r\\x88b\\xad@\\x13\\xd8L\\x02`C?\\x8a\\xa7\\x00\\x15\\xc95AeB@A@\\x8b\\xc0\\xfa_\\xecto\\xc1_\\x92\\xef\\xe7\\x94\\xa8J]g\\x1a\\xee\\x7f=\\x97\\xb6\\xc3\\x1d\\xfc3\\xe6B\\x9f'\n"
     ]
    }
   ],
   "execution_count": 3
  },
  {
   "metadata": {},
   "cell_type": "markdown",
   "source": "### 수신자(B) 복호화 과정",
   "id": "7e1421da25fae067"
  },
  {
   "metadata": {
    "ExecuteTime": {
     "end_time": "2025-07-25T03:24:54.203981Z",
     "start_time": "2025-07-25T03:24:54.199095Z"
    }
   },
   "cell_type": "code",
   "source": [
    "\n",
    "# 1. 수신자가 개인키로 세션키 복호화\n",
    "decrypted_session_key = cipher_rsa_dec.decrypt(encrypted_session_key)\n",
    "\n",
    "# 2. 복호화한 세션키로 메시지 복호화\n",
    "cipher_aes_receiver = AES.new(decrypted_session_key, AES.MODE_EAX, nonce=cipher_aes.nonce)\n",
    "plaintext = cipher_aes_receiver.decrypt_and_verify(ciphertext, tag)\n",
    "\n",
    "print(plaintext.decode())  # Hello, this is a secret message\n"
   ],
   "id": "59158099f795e42b",
   "outputs": [
    {
     "name": "stdout",
     "output_type": "stream",
     "text": [
      "Hello, this is a secret message\n"
     ]
    }
   ],
   "execution_count": 4
  },
  {
   "metadata": {},
   "cell_type": "markdown",
   "source": [
    "## 🔁 전체 흐름 요약\n",
    "\n",
    "| 단계 | 행위자 | 방식 | 사용 키 |\n",
    "| --- | --- | --- | --- |\n",
    "| ① 세션 키 생성 | 송신자 A | 대칭키 준비 | K_AB |\n",
    "| ② 메시지 암호화 | 송신자 A | 대칭키 AES | K_AB |\n",
    "| ③ 세션 키 암호화 | 송신자 A | 수신자 공개키 | **PU_B** |\n",
    "| ④ 세션 키 복호화 | 수신자 B | 수신자 개인키 | **PR_B** |\n",
    "| ⑤ 메시지 복호화 | 수신자 B | 대칭키 AES | K_AB |\n",
    "\n",
    "---\n",
    "\n",
    "## 📌 시험용 키워드 요약\n",
    "\n",
    "- **대칭키로는 메시지를 암호화**\n",
    "- **비대칭키는 세션키를 안전하게 전달**\n",
    "- **공개키로 암호화 → 개인키로 복호화**\n",
    "- **수신자의 공개키로 암호화, 수신자의 개인키로 복호화**"
   ],
   "id": "a4aa7f22d29ed0e8"
  }
 ],
 "metadata": {
  "kernelspec": {
   "display_name": "Python 3",
   "language": "python",
   "name": "python3"
  },
  "language_info": {
   "codemirror_mode": {
    "name": "ipython",
    "version": 2
   },
   "file_extension": ".py",
   "mimetype": "text/x-python",
   "name": "python",
   "nbconvert_exporter": "python",
   "pygments_lexer": "ipython2",
   "version": "2.7.6"
  }
 },
 "nbformat": 4,
 "nbformat_minor": 5
}
